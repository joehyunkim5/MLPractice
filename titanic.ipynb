{
 "cells": [
  {
   "cell_type": "code",
   "execution_count": 2,
   "metadata": {
    "ExecuteTime": {
     "end_time": "2019-10-22T15:43:35.649486Z",
     "start_time": "2019-10-22T15:43:35.500438Z"
    },
    "id": "nKjsEuF7J5PE"
   },
   "outputs": [],
   "source": [
    "import numpy as np\n",
    "import pandas as pd\n",
    "import matplotlib.pyplot as plt\n",
    "\n",
    "n_users = 6040\n",
    "n_movies = 3952\n",
    "\n",
    "def get_train_data():\n",
    "    return pd.read_csv('titanic/train.csv', engine='python')\n",
    "\n",
    "def get_test_data():\n",
    "    return pd.read_csv('titanic/test.csv', engine='python')\n",
    "\n",
    "def split_train_val_test(ratings, train=0.8, val=0.1):\n",
    "    shuffled = np.random.RandomState(0).permutation(ratings.index)\n",
    "    n_train = int(len(shuffled) * train)\n",
    "    n_val = int(len(shuffled) * val)\n",
    "    i_train, i_val, i_test = shuffled[:n_train], shuffled[n_train: n_train + n_val], shuffled[-n_val:]\n",
    "    return ratings.loc[i_train], ratings.loc[i_val], ratings.loc[i_test]\n",
    "\n",
    "def get_dense_array(ratings_df):\n",
    "    ratings = np.zeros((n_users, n_movies))\n",
    "    ratings[ratings_df['user_id'] - 1, ratings_df['movie_id'] - 1] = ratings_df['rating']\n",
    "    return ratings"
   ]
  },
  {
   "cell_type": "code",
   "execution_count": 7,
   "metadata": {
    "ExecuteTime": {
     "end_time": "2019-10-22T15:43:40.079714Z",
     "start_time": "2019-10-22T15:43:36.383505Z"
    },
    "id": "zJ8ozrCOJ5PI"
   },
   "outputs": [
    {
     "data": {
      "text/html": [
       "<div>\n",
       "<style scoped>\n",
       "    .dataframe tbody tr th:only-of-type {\n",
       "        vertical-align: middle;\n",
       "    }\n",
       "\n",
       "    .dataframe tbody tr th {\n",
       "        vertical-align: top;\n",
       "    }\n",
       "\n",
       "    .dataframe thead th {\n",
       "        text-align: right;\n",
       "    }\n",
       "</style>\n",
       "<table border=\"1\" class=\"dataframe\">\n",
       "  <thead>\n",
       "    <tr style=\"text-align: right;\">\n",
       "      <th></th>\n",
       "      <th>Survived</th>\n",
       "      <th>Pclass</th>\n",
       "      <th>Sex</th>\n",
       "      <th>Age</th>\n",
       "      <th>SibSp</th>\n",
       "      <th>Parch</th>\n",
       "      <th>Fare</th>\n",
       "      <th>Cabin</th>\n",
       "      <th>Embarked</th>\n",
       "    </tr>\n",
       "  </thead>\n",
       "  <tbody>\n",
       "    <tr>\n",
       "      <th>0</th>\n",
       "      <td>0</td>\n",
       "      <td>3</td>\n",
       "      <td>male</td>\n",
       "      <td>22.0</td>\n",
       "      <td>1</td>\n",
       "      <td>0</td>\n",
       "      <td>7.2500</td>\n",
       "      <td>NaN</td>\n",
       "      <td>S</td>\n",
       "    </tr>\n",
       "    <tr>\n",
       "      <th>1</th>\n",
       "      <td>1</td>\n",
       "      <td>1</td>\n",
       "      <td>female</td>\n",
       "      <td>38.0</td>\n",
       "      <td>1</td>\n",
       "      <td>0</td>\n",
       "      <td>71.2833</td>\n",
       "      <td>C85</td>\n",
       "      <td>C</td>\n",
       "    </tr>\n",
       "    <tr>\n",
       "      <th>2</th>\n",
       "      <td>1</td>\n",
       "      <td>3</td>\n",
       "      <td>female</td>\n",
       "      <td>26.0</td>\n",
       "      <td>0</td>\n",
       "      <td>0</td>\n",
       "      <td>7.9250</td>\n",
       "      <td>NaN</td>\n",
       "      <td>S</td>\n",
       "    </tr>\n",
       "    <tr>\n",
       "      <th>3</th>\n",
       "      <td>1</td>\n",
       "      <td>1</td>\n",
       "      <td>female</td>\n",
       "      <td>35.0</td>\n",
       "      <td>1</td>\n",
       "      <td>0</td>\n",
       "      <td>53.1000</td>\n",
       "      <td>C123</td>\n",
       "      <td>S</td>\n",
       "    </tr>\n",
       "    <tr>\n",
       "      <th>4</th>\n",
       "      <td>0</td>\n",
       "      <td>3</td>\n",
       "      <td>male</td>\n",
       "      <td>35.0</td>\n",
       "      <td>0</td>\n",
       "      <td>0</td>\n",
       "      <td>8.0500</td>\n",
       "      <td>NaN</td>\n",
       "      <td>S</td>\n",
       "    </tr>\n",
       "    <tr>\n",
       "      <th>...</th>\n",
       "      <td>...</td>\n",
       "      <td>...</td>\n",
       "      <td>...</td>\n",
       "      <td>...</td>\n",
       "      <td>...</td>\n",
       "      <td>...</td>\n",
       "      <td>...</td>\n",
       "      <td>...</td>\n",
       "      <td>...</td>\n",
       "    </tr>\n",
       "    <tr>\n",
       "      <th>886</th>\n",
       "      <td>0</td>\n",
       "      <td>2</td>\n",
       "      <td>male</td>\n",
       "      <td>27.0</td>\n",
       "      <td>0</td>\n",
       "      <td>0</td>\n",
       "      <td>13.0000</td>\n",
       "      <td>NaN</td>\n",
       "      <td>S</td>\n",
       "    </tr>\n",
       "    <tr>\n",
       "      <th>887</th>\n",
       "      <td>1</td>\n",
       "      <td>1</td>\n",
       "      <td>female</td>\n",
       "      <td>19.0</td>\n",
       "      <td>0</td>\n",
       "      <td>0</td>\n",
       "      <td>30.0000</td>\n",
       "      <td>B42</td>\n",
       "      <td>S</td>\n",
       "    </tr>\n",
       "    <tr>\n",
       "      <th>888</th>\n",
       "      <td>0</td>\n",
       "      <td>3</td>\n",
       "      <td>female</td>\n",
       "      <td>NaN</td>\n",
       "      <td>1</td>\n",
       "      <td>2</td>\n",
       "      <td>23.4500</td>\n",
       "      <td>NaN</td>\n",
       "      <td>S</td>\n",
       "    </tr>\n",
       "    <tr>\n",
       "      <th>889</th>\n",
       "      <td>1</td>\n",
       "      <td>1</td>\n",
       "      <td>male</td>\n",
       "      <td>26.0</td>\n",
       "      <td>0</td>\n",
       "      <td>0</td>\n",
       "      <td>30.0000</td>\n",
       "      <td>C148</td>\n",
       "      <td>C</td>\n",
       "    </tr>\n",
       "    <tr>\n",
       "      <th>890</th>\n",
       "      <td>0</td>\n",
       "      <td>3</td>\n",
       "      <td>male</td>\n",
       "      <td>32.0</td>\n",
       "      <td>0</td>\n",
       "      <td>0</td>\n",
       "      <td>7.7500</td>\n",
       "      <td>NaN</td>\n",
       "      <td>Q</td>\n",
       "    </tr>\n",
       "  </tbody>\n",
       "</table>\n",
       "<p>891 rows × 9 columns</p>\n",
       "</div>"
      ],
      "text/plain": [
       "     Survived  Pclass     Sex   Age  SibSp  Parch     Fare Cabin Embarked\n",
       "0           0       3    male  22.0      1      0   7.2500   NaN        S\n",
       "1           1       1  female  38.0      1      0  71.2833   C85        C\n",
       "2           1       3  female  26.0      0      0   7.9250   NaN        S\n",
       "3           1       1  female  35.0      1      0  53.1000  C123        S\n",
       "4           0       3    male  35.0      0      0   8.0500   NaN        S\n",
       "..        ...     ...     ...   ...    ...    ...      ...   ...      ...\n",
       "886         0       2    male  27.0      0      0  13.0000   NaN        S\n",
       "887         1       1  female  19.0      0      0  30.0000   B42        S\n",
       "888         0       3  female   NaN      1      2  23.4500   NaN        S\n",
       "889         1       1    male  26.0      0      0  30.0000  C148        C\n",
       "890         0       3    male  32.0      0      0   7.7500   NaN        Q\n",
       "\n",
       "[891 rows x 9 columns]"
      ]
     },
     "execution_count": 7,
     "metadata": {},
     "output_type": "execute_result"
    }
   ],
   "source": [
    "train = get_train_data()\n",
    "train.drop(columns = ['PassengerId', 'Name', 'Ticket'])\n",
    "# movies = get_movie_data()\n",
    "# ratings = get_rating_data()\n",
    "# train_ratings_df, val_ratings_df, test_ratings_df = split_train_val_test(ratings)\n",
    "# train_ratings, val_ratings, test_ratings = get_dense_array(train_ratings_df), get_dense_array(val_ratings_df), get_dense_array(test_ratings_df)"
   ]
  },
  {
   "cell_type": "code",
   "execution_count": 8,
   "metadata": {
    "colab": {
     "base_uri": "https://localhost:8080/",
     "height": 407
    },
    "executionInfo": {
     "elapsed": 412,
     "status": "ok",
     "timestamp": 1605301680391,
     "user": {
      "displayName": "Aramis Subee",
      "photoUrl": "",
      "userId": "04855088586417452857"
     },
     "user_tz": 600
    },
    "id": "L5zwgLb5b1Se",
    "outputId": "26d39eba-5549-4f1a-98c8-2b9e6e22fb11"
   },
   "outputs": [
    {
     "data": {
      "text/html": [
       "<div>\n",
       "<style scoped>\n",
       "    .dataframe tbody tr th:only-of-type {\n",
       "        vertical-align: middle;\n",
       "    }\n",
       "\n",
       "    .dataframe tbody tr th {\n",
       "        vertical-align: top;\n",
       "    }\n",
       "\n",
       "    .dataframe thead th {\n",
       "        text-align: right;\n",
       "    }\n",
       "</style>\n",
       "<table border=\"1\" class=\"dataframe\">\n",
       "  <thead>\n",
       "    <tr style=\"text-align: right;\">\n",
       "      <th></th>\n",
       "      <th>PassengerId</th>\n",
       "      <th>Survived</th>\n",
       "      <th>Pclass</th>\n",
       "      <th>Name</th>\n",
       "      <th>Sex</th>\n",
       "      <th>Age</th>\n",
       "      <th>SibSp</th>\n",
       "      <th>Parch</th>\n",
       "      <th>Ticket</th>\n",
       "      <th>Fare</th>\n",
       "      <th>Cabin</th>\n",
       "      <th>Embarked</th>\n",
       "    </tr>\n",
       "  </thead>\n",
       "  <tbody>\n",
       "    <tr>\n",
       "      <th>0</th>\n",
       "      <td>1</td>\n",
       "      <td>0</td>\n",
       "      <td>3</td>\n",
       "      <td>Braund, Mr. Owen Harris</td>\n",
       "      <td>male</td>\n",
       "      <td>22.0</td>\n",
       "      <td>1</td>\n",
       "      <td>0</td>\n",
       "      <td>A/5 21171</td>\n",
       "      <td>7.2500</td>\n",
       "      <td>NaN</td>\n",
       "      <td>S</td>\n",
       "    </tr>\n",
       "    <tr>\n",
       "      <th>1</th>\n",
       "      <td>2</td>\n",
       "      <td>1</td>\n",
       "      <td>1</td>\n",
       "      <td>Cumings, Mrs. John Bradley (Florence Briggs Th...</td>\n",
       "      <td>female</td>\n",
       "      <td>38.0</td>\n",
       "      <td>1</td>\n",
       "      <td>0</td>\n",
       "      <td>PC 17599</td>\n",
       "      <td>71.2833</td>\n",
       "      <td>C85</td>\n",
       "      <td>C</td>\n",
       "    </tr>\n",
       "    <tr>\n",
       "      <th>2</th>\n",
       "      <td>3</td>\n",
       "      <td>1</td>\n",
       "      <td>3</td>\n",
       "      <td>Heikkinen, Miss. Laina</td>\n",
       "      <td>female</td>\n",
       "      <td>26.0</td>\n",
       "      <td>0</td>\n",
       "      <td>0</td>\n",
       "      <td>STON/O2. 3101282</td>\n",
       "      <td>7.9250</td>\n",
       "      <td>NaN</td>\n",
       "      <td>S</td>\n",
       "    </tr>\n",
       "    <tr>\n",
       "      <th>3</th>\n",
       "      <td>4</td>\n",
       "      <td>1</td>\n",
       "      <td>1</td>\n",
       "      <td>Futrelle, Mrs. Jacques Heath (Lily May Peel)</td>\n",
       "      <td>female</td>\n",
       "      <td>35.0</td>\n",
       "      <td>1</td>\n",
       "      <td>0</td>\n",
       "      <td>113803</td>\n",
       "      <td>53.1000</td>\n",
       "      <td>C123</td>\n",
       "      <td>S</td>\n",
       "    </tr>\n",
       "    <tr>\n",
       "      <th>4</th>\n",
       "      <td>5</td>\n",
       "      <td>0</td>\n",
       "      <td>3</td>\n",
       "      <td>Allen, Mr. William Henry</td>\n",
       "      <td>male</td>\n",
       "      <td>35.0</td>\n",
       "      <td>0</td>\n",
       "      <td>0</td>\n",
       "      <td>373450</td>\n",
       "      <td>8.0500</td>\n",
       "      <td>NaN</td>\n",
       "      <td>S</td>\n",
       "    </tr>\n",
       "    <tr>\n",
       "      <th>...</th>\n",
       "      <td>...</td>\n",
       "      <td>...</td>\n",
       "      <td>...</td>\n",
       "      <td>...</td>\n",
       "      <td>...</td>\n",
       "      <td>...</td>\n",
       "      <td>...</td>\n",
       "      <td>...</td>\n",
       "      <td>...</td>\n",
       "      <td>...</td>\n",
       "      <td>...</td>\n",
       "      <td>...</td>\n",
       "    </tr>\n",
       "    <tr>\n",
       "      <th>886</th>\n",
       "      <td>887</td>\n",
       "      <td>0</td>\n",
       "      <td>2</td>\n",
       "      <td>Montvila, Rev. Juozas</td>\n",
       "      <td>male</td>\n",
       "      <td>27.0</td>\n",
       "      <td>0</td>\n",
       "      <td>0</td>\n",
       "      <td>211536</td>\n",
       "      <td>13.0000</td>\n",
       "      <td>NaN</td>\n",
       "      <td>S</td>\n",
       "    </tr>\n",
       "    <tr>\n",
       "      <th>887</th>\n",
       "      <td>888</td>\n",
       "      <td>1</td>\n",
       "      <td>1</td>\n",
       "      <td>Graham, Miss. Margaret Edith</td>\n",
       "      <td>female</td>\n",
       "      <td>19.0</td>\n",
       "      <td>0</td>\n",
       "      <td>0</td>\n",
       "      <td>112053</td>\n",
       "      <td>30.0000</td>\n",
       "      <td>B42</td>\n",
       "      <td>S</td>\n",
       "    </tr>\n",
       "    <tr>\n",
       "      <th>888</th>\n",
       "      <td>889</td>\n",
       "      <td>0</td>\n",
       "      <td>3</td>\n",
       "      <td>Johnston, Miss. Catherine Helen \"Carrie\"</td>\n",
       "      <td>female</td>\n",
       "      <td>NaN</td>\n",
       "      <td>1</td>\n",
       "      <td>2</td>\n",
       "      <td>W./C. 6607</td>\n",
       "      <td>23.4500</td>\n",
       "      <td>NaN</td>\n",
       "      <td>S</td>\n",
       "    </tr>\n",
       "    <tr>\n",
       "      <th>889</th>\n",
       "      <td>890</td>\n",
       "      <td>1</td>\n",
       "      <td>1</td>\n",
       "      <td>Behr, Mr. Karl Howell</td>\n",
       "      <td>male</td>\n",
       "      <td>26.0</td>\n",
       "      <td>0</td>\n",
       "      <td>0</td>\n",
       "      <td>111369</td>\n",
       "      <td>30.0000</td>\n",
       "      <td>C148</td>\n",
       "      <td>C</td>\n",
       "    </tr>\n",
       "    <tr>\n",
       "      <th>890</th>\n",
       "      <td>891</td>\n",
       "      <td>0</td>\n",
       "      <td>3</td>\n",
       "      <td>Dooley, Mr. Patrick</td>\n",
       "      <td>male</td>\n",
       "      <td>32.0</td>\n",
       "      <td>0</td>\n",
       "      <td>0</td>\n",
       "      <td>370376</td>\n",
       "      <td>7.7500</td>\n",
       "      <td>NaN</td>\n",
       "      <td>Q</td>\n",
       "    </tr>\n",
       "  </tbody>\n",
       "</table>\n",
       "<p>891 rows × 12 columns</p>\n",
       "</div>"
      ],
      "text/plain": [
       "     PassengerId  Survived  Pclass  \\\n",
       "0              1         0       3   \n",
       "1              2         1       1   \n",
       "2              3         1       3   \n",
       "3              4         1       1   \n",
       "4              5         0       3   \n",
       "..           ...       ...     ...   \n",
       "886          887         0       2   \n",
       "887          888         1       1   \n",
       "888          889         0       3   \n",
       "889          890         1       1   \n",
       "890          891         0       3   \n",
       "\n",
       "                                                  Name     Sex   Age  SibSp  \\\n",
       "0                              Braund, Mr. Owen Harris    male  22.0      1   \n",
       "1    Cumings, Mrs. John Bradley (Florence Briggs Th...  female  38.0      1   \n",
       "2                               Heikkinen, Miss. Laina  female  26.0      0   \n",
       "3         Futrelle, Mrs. Jacques Heath (Lily May Peel)  female  35.0      1   \n",
       "4                             Allen, Mr. William Henry    male  35.0      0   \n",
       "..                                                 ...     ...   ...    ...   \n",
       "886                              Montvila, Rev. Juozas    male  27.0      0   \n",
       "887                       Graham, Miss. Margaret Edith  female  19.0      0   \n",
       "888           Johnston, Miss. Catherine Helen \"Carrie\"  female   NaN      1   \n",
       "889                              Behr, Mr. Karl Howell    male  26.0      0   \n",
       "890                                Dooley, Mr. Patrick    male  32.0      0   \n",
       "\n",
       "     Parch            Ticket     Fare Cabin Embarked  \n",
       "0        0         A/5 21171   7.2500   NaN        S  \n",
       "1        0          PC 17599  71.2833   C85        C  \n",
       "2        0  STON/O2. 3101282   7.9250   NaN        S  \n",
       "3        0            113803  53.1000  C123        S  \n",
       "4        0            373450   8.0500   NaN        S  \n",
       "..     ...               ...      ...   ...      ...  \n",
       "886      0            211536  13.0000   NaN        S  \n",
       "887      0            112053  30.0000   B42        S  \n",
       "888      2        W./C. 6607  23.4500   NaN        S  \n",
       "889      0            111369  30.0000  C148        C  \n",
       "890      0            370376   7.7500   NaN        Q  \n",
       "\n",
       "[891 rows x 12 columns]"
      ]
     },
     "execution_count": 8,
     "metadata": {},
     "output_type": "execute_result"
    }
   ],
   "source": [
    "train"
   ]
  },
  {
   "cell_type": "markdown",
   "metadata": {
    "ExecuteTime": {
     "end_time": "2019-10-22T05:40:30.959317Z",
     "start_time": "2019-10-22T05:40:30.930064Z"
    },
    "id": "Sq6wZx4QJ5PO"
   },
   "source": [
    "# 3.2 Neural Network"
   ]
  },
  {
   "cell_type": "code",
   "execution_count": null,
   "metadata": {
    "id": "O8Ap-8p_J5PO"
   },
   "outputs": [],
   "source": [
    "import torch\n",
    "from torch import nn\n",
    "import torch.nn.functional as F"
   ]
  },
  {
   "cell_type": "code",
   "execution_count": 13,
   "metadata": {
    "id": "5FVmjp550aOT"
   },
   "outputs": [],
   "source": [
    "from sklearn.preprocessing import MinMaxScaler\n",
    "def min_max_normalize(df, ignore_cols=['survived, PassengerId']):\n",
    "    ''' Applies min-max normalization to numerical features in df.\n",
    "\n",
    "    Values are scaled to [-1, 1]\n",
    "    Optionally ignores columns in ignore_cols\n",
    "    '''\n",
    "    numeric_cols = df.select_dtypes('number').columns\n",
    "    if ignore_cols is not None:\n",
    "        assert set(ignore_cols) <= set(numeric_cols)\n",
    "        numeric_cols = set(numeric_cols) - set(ignore_cols)\n",
    "    numeric_df = df[numeric_cols]\n",
    "    scaler = MinMaxScaler(feature_range=(-1, 1))\n",
    "    return pd.DataFrame(scaler.fit_transform(numeric_df), columns=numeric_cols)"
   ]
  },
  {
   "cell_type": "code",
   "execution_count": 16,
   "metadata": {
    "id": "QYEYXcZaXyCi"
   },
   "outputs": [],
   "source": [
    "# Desired features:\n",
    "# 1. one hot encode gender, \n",
    "# 2. Calculate average rating for a movie and user\n",
    "def process_features(df_old):\n",
    "    df = df_old.copy()\n",
    "    df_num = min_max_normalize(df)\n",
    "    #PassengerId - Survived - Pclass - Name - Sex - Ae- SibSp - Parch - Ticket - Fare - Cabin - Embarked\n",
    "    df['age'] = df_num.Age\n",
    "    df['Fare']= df_num.Fare\n",
    "    df['SibSp'] = df_num.SibSp\n",
    "    df['Parch'] = df_num.Parch\n",
    "    sex_categorical = pd.get_dummies(df.sex)\n",
    "    pclass_categorical = pd.get_dummies(df.Pclass)\n",
    "    cabin_categorical = pd.get_dummies(df.Cabin)\n",
    "    embarked_categorical = pd.get_dummies(df.Embarked)\n",
    "    print(sex_categorical) \n",
    "    return df"
   ]
  },
  {
   "cell_type": "code",
   "execution_count": 17,
   "metadata": {
    "id": "QYEYXcZaXyCi"
   },
   "outputs": [
    {
     "ename": "AssertionError",
     "evalue": "",
     "output_type": "error",
     "traceback": [
      "\u001b[0;31m---------------------------------------------------------------------------\u001b[0m",
      "\u001b[0;31mAssertionError\u001b[0m                            Traceback (most recent call last)",
      "\u001b[0;32m<ipython-input-17-bc4acf668f9b>\u001b[0m in \u001b[0;36m<module>\u001b[0;34m\u001b[0m\n\u001b[0;32m----> 1\u001b[0;31m \u001b[0mprocess_features\u001b[0m\u001b[0;34m(\u001b[0m\u001b[0mtrain\u001b[0m\u001b[0;34m)\u001b[0m\u001b[0;34m\u001b[0m\u001b[0;34m\u001b[0m\u001b[0m\n\u001b[0m",
      "\u001b[0;32m<ipython-input-16-40ed71900ea1>\u001b[0m in \u001b[0;36mprocess_features\u001b[0;34m(df_old)\u001b[0m\n\u001b[1;32m      4\u001b[0m \u001b[0;32mdef\u001b[0m \u001b[0mprocess_features\u001b[0m\u001b[0;34m(\u001b[0m\u001b[0mdf_old\u001b[0m\u001b[0;34m)\u001b[0m\u001b[0;34m:\u001b[0m\u001b[0;34m\u001b[0m\u001b[0;34m\u001b[0m\u001b[0m\n\u001b[1;32m      5\u001b[0m     \u001b[0mdf\u001b[0m \u001b[0;34m=\u001b[0m \u001b[0mdf_old\u001b[0m\u001b[0;34m.\u001b[0m\u001b[0mcopy\u001b[0m\u001b[0;34m(\u001b[0m\u001b[0;34m)\u001b[0m\u001b[0;34m\u001b[0m\u001b[0;34m\u001b[0m\u001b[0m\n\u001b[0;32m----> 6\u001b[0;31m     \u001b[0mdf_num\u001b[0m \u001b[0;34m=\u001b[0m \u001b[0mmin_max_normalize\u001b[0m\u001b[0;34m(\u001b[0m\u001b[0mdf\u001b[0m\u001b[0;34m)\u001b[0m\u001b[0;34m\u001b[0m\u001b[0;34m\u001b[0m\u001b[0m\n\u001b[0m\u001b[1;32m      7\u001b[0m     \u001b[0;31m#PassengerId - Survived - Pclass - Name - Sex - Ae- SibSp - Parch - Ticket - Fare - Cabin - Embarked\u001b[0m\u001b[0;34m\u001b[0m\u001b[0;34m\u001b[0m\u001b[0;34m\u001b[0m\u001b[0m\n\u001b[1;32m      8\u001b[0m     \u001b[0mdf\u001b[0m\u001b[0;34m[\u001b[0m\u001b[0;34m'age'\u001b[0m\u001b[0;34m]\u001b[0m \u001b[0;34m=\u001b[0m \u001b[0mdf_num\u001b[0m\u001b[0;34m.\u001b[0m\u001b[0mAge\u001b[0m\u001b[0;34m\u001b[0m\u001b[0;34m\u001b[0m\u001b[0m\n",
      "\u001b[0;32m<ipython-input-13-0209c7c20e71>\u001b[0m in \u001b[0;36mmin_max_normalize\u001b[0;34m(df, ignore_cols)\u001b[0m\n\u001b[1;32m      8\u001b[0m     \u001b[0mnumeric_cols\u001b[0m \u001b[0;34m=\u001b[0m \u001b[0mdf\u001b[0m\u001b[0;34m.\u001b[0m\u001b[0mselect_dtypes\u001b[0m\u001b[0;34m(\u001b[0m\u001b[0;34m'number'\u001b[0m\u001b[0;34m)\u001b[0m\u001b[0;34m.\u001b[0m\u001b[0mcolumns\u001b[0m\u001b[0;34m\u001b[0m\u001b[0;34m\u001b[0m\u001b[0m\n\u001b[1;32m      9\u001b[0m     \u001b[0;32mif\u001b[0m \u001b[0mignore_cols\u001b[0m \u001b[0;32mis\u001b[0m \u001b[0;32mnot\u001b[0m \u001b[0;32mNone\u001b[0m\u001b[0;34m:\u001b[0m\u001b[0;34m\u001b[0m\u001b[0;34m\u001b[0m\u001b[0m\n\u001b[0;32m---> 10\u001b[0;31m         \u001b[0;32massert\u001b[0m \u001b[0mset\u001b[0m\u001b[0;34m(\u001b[0m\u001b[0mignore_cols\u001b[0m\u001b[0;34m)\u001b[0m \u001b[0;34m<=\u001b[0m \u001b[0mset\u001b[0m\u001b[0;34m(\u001b[0m\u001b[0mnumeric_cols\u001b[0m\u001b[0;34m)\u001b[0m\u001b[0;34m\u001b[0m\u001b[0;34m\u001b[0m\u001b[0m\n\u001b[0m\u001b[1;32m     11\u001b[0m         \u001b[0mnumeric_cols\u001b[0m \u001b[0;34m=\u001b[0m \u001b[0mset\u001b[0m\u001b[0;34m(\u001b[0m\u001b[0mnumeric_cols\u001b[0m\u001b[0;34m)\u001b[0m \u001b[0;34m-\u001b[0m \u001b[0mset\u001b[0m\u001b[0;34m(\u001b[0m\u001b[0mignore_cols\u001b[0m\u001b[0;34m)\u001b[0m\u001b[0;34m\u001b[0m\u001b[0;34m\u001b[0m\u001b[0m\n\u001b[1;32m     12\u001b[0m     \u001b[0mnumeric_df\u001b[0m \u001b[0;34m=\u001b[0m \u001b[0mdf\u001b[0m\u001b[0;34m[\u001b[0m\u001b[0mnumeric_cols\u001b[0m\u001b[0;34m]\u001b[0m\u001b[0;34m\u001b[0m\u001b[0;34m\u001b[0m\u001b[0m\n",
      "\u001b[0;31mAssertionError\u001b[0m: "
     ]
    }
   ],
   "source": [
    "process_features(train)"
   ]
  },
  {
   "cell_type": "code",
   "execution_count": null,
   "metadata": {
    "id": "K5hyOjUAXQij"
   },
   "outputs": [],
   "source": [
    "# Hyperparameters\n",
    "args = {\n",
    "    'width': 100,\n",
    "    'depth': 4,\n",
    "    'hidden_size': 50,\n",
    "    'lr': 0.01,\n",
    "    'momentum': 0.9,\n",
    "    'epochs': 10\n",
    "}\n",
    "\n",
    "layers = []\n",
    "layers.append(nn.Linear(5, args['hidden_size']))\n",
    "layers.append(nn.ReLU())\n",
    "for i in range(args['depth']-1):\n",
    "    layers.append(nn.Linear(args['hidden_size'], args['hidden_size']))\n",
    "    layers.append(nn.ReLU())\n",
    "layers.append(nn.Linear(args['hidden_size'], 1))\n",
    "\n",
    "model = nn.Sequential(layers)\n",
    "\n",
    "class Net(nn.Module):\n",
    "    def __init__(self):\n",
    "        super(Net, self).__init__()\n",
    "        self.input_layer = nn.Linear(5, args['hidden_size'])\n",
    "        self.hidden_layers = nn.Sequential(*[nn.Linear(args['hidden_size'], args['hidden_size']), nn.ReLU()] * (args['depth']-1))\n",
    "        self.output_layer = nn.Linear(args['hidden_size'], 1)\n",
    "    def forward(self, x):\n",
    "        x = self.input_layer(x)\n",
    "        x = nn.ReLU(x)\n",
    "        x = self.hidden_layers(x)\n",
    "        x = self.output_layer(x)\n",
    "        return x"
   ]
  },
  {
   "cell_type": "code",
   "execution_count": null,
   "metadata": {
    "id": "YSFUL6UexIUt"
   },
   "outputs": [],
   "source": [
    "processed_train_df = process_features(train_ratings_df)\n",
    "processed_val_df = process_features(val_ratings_df)\n",
    "processed_test_df = process_features(test_ratings_df)"
   ]
  },
  {
   "cell_type": "code",
   "execution_count": null,
   "metadata": {
    "id": "yEG5df5xUUOi"
   },
   "outputs": [],
   "source": [
    "from torch.utils.data import Dataset, DataLoader\n",
    "class MovieLensDataset(Dataset):\n",
    "    def __init__(self, df):\n",
    "        self.data = df[['age', 'avg_user_rating', 'avg_movie_rating', 'F', 'M']]\n",
    "        self.labels = df[['rating']]\n",
    "    def __len__(self):\n",
    "        return len(self.data)\n",
    "    def __getitem__(self, idx):\n",
    "        return torch.tensor(self.data.iloc[idx]), torch.tensor(self.labels.iloc[idx])\n",
    "\n",
    "\n",
    "train_data = MovieLensDataset(processed_train_df)\n",
    "val_data = MovieLensDataset(processed_val_df)\n",
    "test_data = MovieLensDataset(processed_test_df)\n",
    "\n",
    "trainloader = DataLoader(train_data, batch_size = 256, num_workers = 0)\n",
    "valoader = DataLoader(val_data, batch_size = 256, num_workers = 0)\n",
    "testloader = DataLoader(test_data, batch_size = 256, num_workers = 0)"
   ]
  },
  {
   "cell_type": "code",
   "execution_count": null,
   "metadata": {
    "id": "cT1R25BwcXQV"
   },
   "outputs": [],
   "source": [
    "import torch.optim as optim\n",
    "import time\n",
    "def train(trainloader, layers):\n",
    "    model = nn.Sequential(*layers)\n",
    "    criterion = nn.MSELoss()\n",
    "    optimizer = optim.SGD(model.parameters(), lr = args['lr'], momentum = args['momentum'])\n",
    "    for epoch in range(args['epochs']):\n",
    "        epoch_loss = 0\n",
    "        start = time.perf_counter()\n",
    "        for i, batch in enumerate(trainloader):\n",
    "            inputs, labels = batch\n",
    "            optimizer.zero_grad()\n",
    "            outputs = model(inputs.float())\n",
    "            loss = criterion(outputs, labels.float())\n",
    "            loss.backward()\n",
    "            optimizer.step()\n",
    "            epoch_loss += loss.item()\n",
    "        print('Epoch {} - loss: {}'.format(epoch+1, epoch_loss))\n",
    "        print('Time: {}'.format(time.perf_counter() - start))\n",
    "    return model\n",
    "\n"
   ]
  },
  {
   "cell_type": "code",
   "execution_count": null,
   "metadata": {
    "colab": {
     "base_uri": "https://localhost:8080/"
    },
    "executionInfo": {
     "elapsed": 3485238,
     "status": "ok",
     "timestamp": 1605249321654,
     "user": {
      "displayName": "Aramis Subee",
      "photoUrl": "",
      "userId": "04855088586417452857"
     },
     "user_tz": 600
    },
    "id": "ES0v5wd5rXkt",
    "outputId": "65b847df-5875-45f7-d96e-212dcf536dc1"
   },
   "outputs": [
    {
     "name": "stdout",
     "output_type": "stream",
     "text": [
      "Epoch 1 - loss: 4141.011433124542\n",
      "Time: 348.93263468900113\n",
      "Epoch 2 - loss: 4141.175492674112\n",
      "Time: 346.5130607689971\n",
      "Epoch 3 - loss: 4140.659157186747\n",
      "Time: 346.35102339999867\n",
      "Epoch 4 - loss: 4140.003085285425\n",
      "Time: 347.3758087069982\n",
      "Epoch 5 - loss: 4139.870202124119\n",
      "Time: 348.1088515859992\n",
      "Epoch 6 - loss: 4139.900214076042\n",
      "Time: 351.2712993580026\n",
      "Epoch 7 - loss: 4140.127483487129\n",
      "Time: 351.24977211200166\n",
      "Epoch 8 - loss: 4139.785731256008\n",
      "Time: 349.48898366199865\n",
      "Epoch 9 - loss: 4139.558216154575\n",
      "Time: 347.6035507310007\n",
      "Epoch 10 - loss: 4139.661872237921\n",
      "Time: 347.62262104300316\n"
     ]
    }
   ],
   "source": [
    "model = train(trainloader, layers)"
   ]
  },
  {
   "cell_type": "code",
   "execution_count": null,
   "metadata": {
    "id": "682mZpk4Vz7d"
   },
   "outputs": [],
   "source": [
    "def evaluate(model, valloader):\n",
    "    criterion = nn.MSELoss()\n",
    "    loss = 0\n",
    "    with torch.no_grad():\n",
    "        for i, batch in enumerate(valloader):\n",
    "            inputs, labels = batch\n",
    "            outputs = model(inputs.float())\n",
    "            loss += criterion(outputs, labels.float())\n",
    "    return loss/len(valloader)"
   ]
  },
  {
   "cell_type": "code",
   "execution_count": null,
   "metadata": {
    "colab": {
     "base_uri": "https://localhost:8080/"
    },
    "executionInfo": {
     "elapsed": 340294,
     "status": "ok",
     "timestamp": 1605250300040,
     "user": {
      "displayName": "Aramis Subee",
      "photoUrl": "",
      "userId": "04855088586417452857"
     },
     "user_tz": 600
    },
    "id": "TaKfWu3kWj57",
    "outputId": "6a63837f-9c98-45ae-d380-ac201f16ba0e"
   },
   "outputs": [
    {
     "name": "stdout",
     "output_type": "stream",
     "text": [
      "tensor(1.0600)\n"
     ]
    }
   ],
   "source": [
    "mse = evaluate(model, valoader)\n",
    "print(mse)"
   ]
  },
  {
   "cell_type": "code",
   "execution_count": null,
   "metadata": {
    "colab": {
     "base_uri": "https://localhost:8080/"
    },
    "executionInfo": {
     "elapsed": 342138,
     "status": "ok",
     "timestamp": 1605251066699,
     "user": {
      "displayName": "Aramis Subee",
      "photoUrl": "",
      "userId": "04855088586417452857"
     },
     "user_tz": 600
    },
    "id": "n0pmEjaMZgTL",
    "outputId": "14c6bc36-d4be-49be-f82a-9c5273d6c955"
   },
   "outputs": [
    {
     "name": "stdout",
     "output_type": "stream",
     "text": [
      "tensor(1.0600)\n"
     ]
    }
   ],
   "source": [
    "test_mse = evaluate(model, testloader)\n",
    "print(mse)"
   ]
  },
  {
   "cell_type": "code",
   "execution_count": null,
   "metadata": {
    "id": "OfSyD6sPrzNM"
   },
   "outputs": [],
   "source": [
    "class MovieLensDatasetAblation(Dataset):\n",
    "    def __init__(self, df):\n",
    "        self.data = df[['avg_user_rating', 'avg_movie_rating']]\n",
    "        self.labels = df[['rating']]\n",
    "    def __len__(self):\n",
    "        return len(self.data)\n",
    "    def __getitem__(self, idx):\n",
    "        return torch.tensor(self.data.iloc[idx]), torch.tensor(self.labels.iloc[idx])\n",
    "\n",
    "\n",
    "train_data_ablation = MovieLensDataset(processed_train_df)\n",
    "val_data_ablation = MovieLensDataset(processed_val_df)\n",
    "test_data_ablation = MovieLensDataset(processed_test_df)\n",
    "\n",
    "trainloader_ablation = DataLoader(train_data_ablation, batch_size = 256, num_workers = 0)\n",
    "valoader_ablation = DataLoader(val_data_ablation, batch_size = 256, num_workers = 0)\n",
    "testloader_ablation = DataLoader(test_data_ablation, batch_size = 256, num_workers = 0)"
   ]
  },
  {
   "cell_type": "code",
   "execution_count": null,
   "metadata": {
    "colab": {
     "base_uri": "https://localhost:8080/"
    },
    "executionInfo": {
     "elapsed": 3469176,
     "status": "ok",
     "timestamp": 1605262919828,
     "user": {
      "displayName": "Aramis Subee",
      "photoUrl": "",
      "userId": "04855088586417452857"
     },
     "user_tz": 600
    },
    "id": "ycedjP4XboKr",
    "outputId": "7558ca08-f485-4cee-efb2-24aa7c0c9790"
   },
   "outputs": [
    {
     "name": "stdout",
     "output_type": "stream",
     "text": [
      "Epoch 1 - loss: 4451.598682403564\n",
      "Time: 341.829094217\n",
      "Epoch 2 - loss: 4153.0240265131\n",
      "Time: 341.310661997\n",
      "Epoch 3 - loss: 4148.3260371387005\n",
      "Time: 345.2031759650001\n",
      "Epoch 4 - loss: 4146.374026298523\n",
      "Time: 349.5462531249998\n",
      "Epoch 5 - loss: 4146.16229313612\n",
      "Time: 355.3534050019998\n",
      "Epoch 6 - loss: 4146.315999120474\n",
      "Time: 358.8211854299998\n",
      "Epoch 7 - loss: 4144.445684820414\n",
      "Time: 353.86359875000016\n",
      "Epoch 8 - loss: 4143.0946026444435\n",
      "Time: 347.375252068\n",
      "Epoch 9 - loss: 4142.292069166899\n",
      "Time: 337.717256937\n",
      "Epoch 10 - loss: 4142.6262129843235\n",
      "Time: 337.6882162750003\n"
     ]
    }
   ],
   "source": [
    "model_ablation = train(trainloader, layers)"
   ]
  },
  {
   "cell_type": "code",
   "execution_count": null,
   "metadata": {
    "colab": {
     "base_uri": "https://localhost:8080/"
    },
    "executionInfo": {
     "elapsed": 4134423,
     "status": "ok",
     "timestamp": 1605263585390,
     "user": {
      "displayName": "Aramis Subee",
      "photoUrl": "",
      "userId": "04855088586417452857"
     },
     "user_tz": 600
    },
    "id": "HeUBY-sF35vT",
    "outputId": "ad99d9aa-cf5a-4e87-afa5-8910c70d7d30"
   },
   "outputs": [
    {
     "name": "stdout",
     "output_type": "stream",
     "text": [
      "tensor(1.0594)\n",
      "tensor(1.0594)\n"
     ]
    }
   ],
   "source": [
    "val_mse_ablation = evaluate(model_ablation, valoader)\n",
    "print(val_mse_ablation)\n",
    "test_mse_ablation = evaluate(model_ablation, testloader)\n",
    "print(test_mse_ablation)"
   ]
  },
  {
   "cell_type": "code",
   "execution_count": null,
   "metadata": {
    "colab": {
     "base_uri": "https://localhost:8080/"
    },
    "executionInfo": {
     "elapsed": 1342024,
     "status": "ok",
     "timestamp": 1605265849555,
     "user": {
      "displayName": "Aramis Subee",
      "photoUrl": "",
      "userId": "04855088586417452857"
     },
     "user_tz": 600
    },
    "id": "87kDzqHub5oE",
    "outputId": "7594223e-318e-4a51-cb2b-e1dc6385a7a9"
   },
   "outputs": [
    {
     "name": "stdout",
     "output_type": "stream",
     "text": [
      "Epoch 1 - loss: 4140.293397843838\n",
      "Time: 337.1380207760003\n",
      "Epoch 2 - loss: 4140.029753744602\n",
      "Time: 340.45485344499957\n",
      "2\n",
      "Val:\n",
      "tensor(1.0602)\n",
      "Test:\n",
      "tensor(1.0602)\n"
     ]
    }
   ],
   "source": [
    "args['epochs'] = 2\n",
    "model = train(trainloader, layers)\n",
    "print(2)\n",
    "print('Val:')\n",
    "print(evaluate(model, valoader))\n",
    "print('Test:')\n",
    "print(evaluate(model, testloader))"
   ]
  },
  {
   "cell_type": "code",
   "execution_count": null,
   "metadata": {
    "colab": {
     "base_uri": "https://localhost:8080/"
    },
    "executionInfo": {
     "elapsed": 3368679,
     "status": "ok",
     "timestamp": 1605267876437,
     "user": {
      "displayName": "Aramis Subee",
      "photoUrl": "",
      "userId": "04855088586417452857"
     },
     "user_tz": 600
    },
    "id": "e7Sz7iGXcMTa",
    "outputId": "5ead9c2d-1851-4034-bcd3-1961bf92be25"
   },
   "outputs": [
    {
     "name": "stdout",
     "output_type": "stream",
     "text": [
      "Epoch 1 - loss: 4139.735735446215\n",
      "Time: 340.71909113499987\n",
      "Epoch 2 - loss: 4139.335850358009\n",
      "Time: 338.3462146310003\n",
      "Epoch 3 - loss: 4139.791591823101\n",
      "Time: 342.57236025099974\n",
      "Epoch 4 - loss: 4139.2761444449425\n",
      "Time: 336.70349016399996\n",
      "4\n",
      "Val:\n",
      "tensor(1.0612)\n",
      "Test:\n",
      "tensor(1.0612)\n"
     ]
    }
   ],
   "source": [
    "args['epochs'] = 4\n",
    "model = train(trainloader, layers)\n",
    "print(4)\n",
    "print('Val:')\n",
    "print(evaluate(model, valoader))\n",
    "print('Test:')\n",
    "print(evaluate(model, testloader))"
   ]
  },
  {
   "cell_type": "code",
   "execution_count": null,
   "metadata": {
    "colab": {
     "base_uri": "https://localhost:8080/"
    },
    "executionInfo": {
     "elapsed": 6062442,
     "status": "ok",
     "timestamp": 1605270570409,
     "user": {
      "displayName": "Aramis Subee",
      "photoUrl": "",
      "userId": "04855088586417452857"
     },
     "user_tz": 600
    },
    "id": "ErPgAECUvI3a",
    "outputId": "2a7d2cad-fa3b-45ad-ca24-b1bba9989eaa"
   },
   "outputs": [
    {
     "name": "stdout",
     "output_type": "stream",
     "text": [
      "Epoch 1 - loss: 4138.676314264536\n",
      "Time: 337.9464519009998\n",
      "Epoch 2 - loss: 4139.222398519516\n",
      "Time: 337.6191665229999\n",
      "Epoch 3 - loss: 4138.759005069733\n",
      "Time: 336.7097596900003\n",
      "Epoch 4 - loss: 4138.750609606504\n",
      "Time: 337.88217956100016\n",
      "Epoch 5 - loss: 4138.613515347242\n",
      "Time: 337.1083042249993\n",
      "Epoch 6 - loss: 4138.712310671806\n",
      "Time: 339.8560352859986\n",
      "6\n",
      "Val:\n",
      "tensor(1.0599)\n",
      "Test:\n",
      "tensor(1.0599)\n"
     ]
    }
   ],
   "source": [
    "args['epochs'] = 6\n",
    "model = train(trainloader, layers)\n",
    "print(6)\n",
    "print('Val:')\n",
    "print(evaluate(model, valoader))\n",
    "print('Test:')\n",
    "print(evaluate(model, testloader))"
   ]
  },
  {
   "cell_type": "code",
   "execution_count": null,
   "metadata": {
    "colab": {
     "base_uri": "https://localhost:8080/"
    },
    "executionInfo": {
     "elapsed": 9429172,
     "status": "ok",
     "timestamp": 1605273937632,
     "user": {
      "displayName": "Aramis Subee",
      "photoUrl": "",
      "userId": "04855088586417452857"
     },
     "user_tz": 600
    },
    "id": "1GoqZKafvJV_",
    "outputId": "06fd890a-1fa6-4f53-d1ab-860812275f09"
   },
   "outputs": [
    {
     "name": "stdout",
     "output_type": "stream",
     "text": [
      "Epoch 1 - loss: 4138.038381099701\n",
      "Time: 339.12343950600007\n",
      "Epoch 2 - loss: 4138.0985932946205\n",
      "Time: 337.14608776500063\n",
      "Epoch 3 - loss: 4138.20110604167\n",
      "Time: 337.49118975499914\n",
      "Epoch 4 - loss: 4138.158048868179\n",
      "Time: 337.1486140249999\n",
      "Epoch 5 - loss: 4137.753827601671\n",
      "Time: 338.16831340299905\n",
      "Epoch 6 - loss: 4138.287654042244\n",
      "Time: 336.5233725829985\n",
      "Epoch 7 - loss: 4138.065690338612\n",
      "Time: 337.7555926969999\n",
      "Epoch 8 - loss: 4137.584454208612\n",
      "Time: 337.42159865600115\n",
      "8\n",
      "Val:\n",
      "tensor(1.0610)\n",
      "Test:\n",
      "tensor(1.0610)\n"
     ]
    }
   ],
   "source": [
    "args['epochs'] = 8\n",
    "model = train(trainloader, layers)\n",
    "print(8)\n",
    "print('Val:')\n",
    "print(evaluate(model, valoader))\n",
    "print('Test:')\n",
    "print(evaluate(model, testloader))"
   ]
  },
  {
   "cell_type": "code",
   "execution_count": null,
   "metadata": {
    "colab": {
     "base_uri": "https://localhost:8080/"
    },
    "executionInfo": {
     "elapsed": 428,
     "status": "ok",
     "timestamp": 1605294196707,
     "user": {
      "displayName": "Aramis Subee",
      "photoUrl": "",
      "userId": "04855088586417452857"
     },
     "user_tz": 600
    },
    "id": "EBR3lnd3vSsJ",
    "outputId": "000d2be4-9c19-452b-9c30-cd8212aedeff"
   },
   "outputs": [
    {
     "data": {
      "text/plain": [
       "1.0587473014863389"
      ]
     },
     "execution_count": 21,
     "metadata": {
      "tags": []
     },
     "output_type": "execute_result"
    }
   ],
   "source": [
    "4137.584454208612/len(trainloader)"
   ]
  },
  {
   "cell_type": "code",
   "execution_count": null,
   "metadata": {
    "id": "ttrszO9L62sO"
   },
   "outputs": [],
   "source": []
  }
 ],
 "metadata": {
  "colab": {
   "name": "hw3_template.ipynb",
   "provenance": []
  },
  "kernelspec": {
   "display_name": "Python 3",
   "language": "python",
   "name": "python3"
  },
  "language_info": {
   "codemirror_mode": {
    "name": "ipython",
    "version": 3
   },
   "file_extension": ".py",
   "mimetype": "text/x-python",
   "name": "python",
   "nbconvert_exporter": "python",
   "pygments_lexer": "ipython3",
   "version": "3.8.3"
  }
 },
 "nbformat": 4,
 "nbformat_minor": 4
}
